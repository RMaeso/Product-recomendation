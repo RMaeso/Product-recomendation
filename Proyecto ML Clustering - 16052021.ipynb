{
 "cells": [
  {
   "cell_type": "code",
   "execution_count": 1,
   "metadata": {},
   "outputs": [],
   "source": [
    "# !pip install kmodes\n",
    "# !pip install plotnine"
   ]
  },
  {
   "cell_type": "code",
   "execution_count": 25,
   "metadata": {},
   "outputs": [],
   "source": [
    "import pandas as pd\n",
    "import numpy as np\n",
    "import matplotlib.pyplot as plt\n",
    "import numpy as np\n",
    "from kmodes.kmodes import KModes\n",
    "from kmodes.kprototypes import KPrototypes\n",
    "# Import module for data visualization\n",
    "from plotnine import *\n",
    "import plotnine"
   ]
  },
  {
   "cell_type": "code",
   "execution_count": 3,
   "metadata": {},
   "outputs": [
    {
     "name": "stderr",
     "output_type": "stream",
     "text": [
      "C:\\Users\\ICS\\anaconda3\\lib\\site-packages\\IPython\\core\\interactiveshell.py:3071: DtypeWarning: Columns (5,9,11) have mixed types.Specify dtype option on import or set low_memory=False.\n"
     ]
    }
   ],
   "source": [
    "df_2=pd.read_csv(\"rec_sys_alumnos.csv\")\n",
    "df_2['edad']=pd.to_numeric(df_2['edad'].map(lambda x: x.replace(' ','') if type(x)==str else x),errors='coerce')\n",
    "df_2['num_antiguedad']=pd.to_numeric(df_2['num_antiguedad'].map(lambda x: x.replace(' ','') if type(x)==str else x),errors='coerce')\n",
    "df_2.fecha1=df_2.fecha1.map(lambda x:x[:4] if x is not np.nan else np.nan).astype(float)\n",
    "dict_mes = dict(zip(df_2.mes.unique(),range(1,17)))\n",
    "df_2.mes = df_2.mes.map(dict_mes).astype('int')"
   ]
  },
  {
   "cell_type": "markdown",
   "metadata": {},
   "source": [
    "Para la variable _fecha1_ , nos quedamos solo con el año, que es lo que nos interesa."
   ]
  },
  {
   "cell_type": "code",
   "execution_count": 4,
   "metadata": {},
   "outputs": [],
   "source": [
    "columnas = df_2.columns.drop(['Unnamed: 0','xti_nuevo_cliente','num_antiguedad','mes','xti_rel','fec_ult_cli_1t',\n",
    "                  'xti_rel_1mes','tip_rel_1mes','xti_extra','ind_prod1', 'ind_prod2',\n",
    "       'ind_prod3', 'ind_prod4', 'ind_prod5', 'ind_prod6', 'ind_prod7',\n",
    "       'ind_prod8', 'ind_prod9', 'ind_prod10', 'ind_prod11', 'ind_prod12',\n",
    "       'ind_prod13', 'ind_prod14', 'ind_prod15', 'ind_prod16', 'ind_prod17',\n",
    "       'ind_prod18', 'ind_prod19', 'ind_prod20', 'ind_prod21', 'ind_prod22',\n",
    "       'ind_prod23', 'ind_prod24', 'ind_prod25'])"
   ]
  },
  {
   "cell_type": "code",
   "execution_count": 5,
   "metadata": {
    "collapsed": true
   },
   "outputs": [
    {
     "name": "stdout",
     "output_type": "stream",
     "text": [
      "<class 'pandas.core.frame.DataFrame'>\n",
      "RangeIndex: 634682 entries, 0 to 634681\n",
      "Data columns (total 15 columns):\n",
      " #   Column                 Non-Null Count   Dtype  \n",
      "---  ------                 --------------   -----  \n",
      " 0   cod_persona            634682 non-null  int64  \n",
      " 1   pais                   634626 non-null  object \n",
      " 2   sexo                   634617 non-null  object \n",
      " 3   edad                   634626 non-null  float64\n",
      " 4   fecha1                 634626 non-null  float64\n",
      " 5   xti_empleado           634626 non-null  object \n",
      " 6   indresi                634626 non-null  object \n",
      " 7   indext                 634626 non-null  object \n",
      " 8   des_canal              627504 non-null  object \n",
      " 9   tip_dom                634626 non-null  float64\n",
      " 10  cod_provincia          631736 non-null  float64\n",
      " 11  xti_actividad_cliente  634626 non-null  float64\n",
      " 12  imp_renta              510518 non-null  float64\n",
      " 13  id_segmento            627279 non-null  object \n",
      " 14  mean_engagement        629040 non-null  float64\n",
      "dtypes: float64(7), int64(1), object(7)\n",
      "memory usage: 72.6+ MB\n"
     ]
    }
   ],
   "source": [
    "df_2[columnas].info()"
   ]
  },
  {
   "cell_type": "code",
   "execution_count": 6,
   "metadata": {},
   "outputs": [
    {
     "data": {
      "text/plain": [
       "Index(['cod_persona', 'pais', 'sexo', 'edad', 'fecha1', 'xti_empleado',\n",
       "       'indresi', 'indext', 'des_canal', 'tip_dom', 'cod_provincia',\n",
       "       'xti_actividad_cliente', 'imp_renta', 'id_segmento', 'mean_engagement'],\n",
       "      dtype='object')"
      ]
     },
     "execution_count": 6,
     "metadata": {},
     "output_type": "execute_result"
    }
   ],
   "source": [
    "columnas"
   ]
  },
  {
   "cell_type": "markdown",
   "metadata": {},
   "source": [
    "Hacemos un clustering de clientes utilizando las variables que no dependen del tiempo. Para ello agrupamos por clientes y nos quedamos con la moda de las variables, ya que así podemos rellenar una gran cantidad de valores faltantes."
   ]
  },
  {
   "cell_type": "code",
   "execution_count": 7,
   "metadata": {},
   "outputs": [],
   "source": [
    "df_clustering = df_2[columnas].groupby('cod_persona').agg(dict({k:(lambda x: pd.Series.mode(x) if x.unique()[0] is not np.nan else np.nan) for k in \n",
    "                                                                [  'cod_provincia']},\n",
    "                                         **{'edad':'max','mean_engagement':'mean','imp_renta':'mean'},\n",
    "                                         **{k:(lambda x: pd.Series.mode(x)[0] if x.unique()[0] is not np.nan else np.nan) for k in \n",
    "                                            ['id_segmento','des_canal','indresi','pais', 'xti_actividad_cliente','xti_empleado','sexo','fecha1','indext','tip_dom' ] }))"
   ]
  },
  {
   "cell_type": "markdown",
   "metadata": {},
   "source": [
    "Las columnas _id_segmento_ y _des_canal_ dan problemas porque hay clientes con todos los datos nulos en esas columnas, luego el agg no puede dar el valor de la moda. Por eso hay que especificar que ponga un nan.\n",
    "Para quitarnos los valores nulos que nos quedan, imputamos por la moda o la mediana directamente.\n"
   ]
  },
  {
   "cell_type": "code",
   "execution_count": 8,
   "metadata": {},
   "outputs": [],
   "source": [
    "df_clustering.cod_provincia = df_clustering.cod_provincia.map(lambda x: x if isinstance(x,float) else np.nan)"
   ]
  },
  {
   "cell_type": "code",
   "execution_count": 9,
   "metadata": {},
   "outputs": [],
   "source": [
    "df_clustering.cod_provincia.fillna(df_clustering.cod_provincia.mode()[0],inplace=True)"
   ]
  },
  {
   "cell_type": "code",
   "execution_count": 10,
   "metadata": {},
   "outputs": [],
   "source": [
    "for col in ['mean_engagement','imp_renta']:\n",
    "    df_clustering[col]=df_clustering[col].fillna(df_clustering[col].mean())\n",
    "    \n",
    "for col in ['pais','xti_empleado','sexo','indresi','indext','id_segmento','des_canal']:\n",
    "    df_clustering[col]=df_clustering[col].fillna(df_clustering[col].mode()[0])\n"
   ]
  },
  {
   "cell_type": "code",
   "execution_count": 11,
   "metadata": {},
   "outputs": [
    {
     "data": {
      "text/plain": [
       "array([1.])"
      ]
     },
     "execution_count": 11,
     "metadata": {},
     "output_type": "execute_result"
    }
   ],
   "source": [
    "df_clustering.tip_dom.unique()"
   ]
  },
  {
   "cell_type": "code",
   "execution_count": 12,
   "metadata": {},
   "outputs": [],
   "source": [
    "# Esta variable es constante, luego no nos aporta nada. La quitamos.\n",
    "df_clustering.drop('tip_dom', axis=1,inplace=True)"
   ]
  },
  {
   "cell_type": "code",
   "execution_count": 13,
   "metadata": {
    "collapsed": true
   },
   "outputs": [
    {
     "name": "stdout",
     "output_type": "stream",
     "text": [
      "<class 'pandas.core.frame.DataFrame'>\n",
      "Int64Index: 46779 entries, 5514 to 1537800\n",
      "Data columns (total 13 columns):\n",
      " #   Column                 Non-Null Count  Dtype  \n",
      "---  ------                 --------------  -----  \n",
      " 0   cod_provincia          46779 non-null  float64\n",
      " 1   edad                   46779 non-null  float64\n",
      " 2   mean_engagement        46779 non-null  float64\n",
      " 3   imp_renta              46779 non-null  float64\n",
      " 4   id_segmento            46779 non-null  object \n",
      " 5   des_canal              46779 non-null  object \n",
      " 6   indresi                46779 non-null  object \n",
      " 7   pais                   46779 non-null  object \n",
      " 8   xti_actividad_cliente  46779 non-null  float64\n",
      " 9   xti_empleado           46779 non-null  object \n",
      " 10  sexo                   46779 non-null  object \n",
      " 11  fecha1                 46779 non-null  float64\n",
      " 12  indext                 46779 non-null  object \n",
      "dtypes: float64(6), object(7)\n",
      "memory usage: 5.0+ MB\n"
     ]
    }
   ],
   "source": [
    "df_clustering.info()"
   ]
  },
  {
   "cell_type": "code",
   "execution_count": 14,
   "metadata": {
    "collapsed": true
   },
   "outputs": [
    {
     "data": {
      "text/plain": [
       "ES    46593\n",
       "DE       18\n",
       "GB       16\n",
       "FR       14\n",
       "US       13\n",
       "CH       12\n",
       "CO       10\n",
       "IT        9\n",
       "AR        9\n",
       "MX        8\n",
       "RO        6\n",
       "EC        6\n",
       "CL        5\n",
       "PY        5\n",
       "VE        5\n",
       "BR        4\n",
       "BE        4\n",
       "AT        3\n",
       "CA        3\n",
       "NL        2\n",
       "PE        2\n",
       "FI        2\n",
       "BO        2\n",
       "PL        2\n",
       "BG        2\n",
       "CN        2\n",
       "UA        1\n",
       "NG        1\n",
       "PR        1\n",
       "AU        1\n",
       "PK        1\n",
       "HU        1\n",
       "PA        1\n",
       "SE        1\n",
       "IL        1\n",
       "MD        1\n",
       "NZ        1\n",
       "IN        1\n",
       "RU        1\n",
       "CU        1\n",
       "JP        1\n",
       "PT        1\n",
       "AD        1\n",
       "SV        1\n",
       "GE        1\n",
       "GN        1\n",
       "GT        1\n",
       "SA        1\n",
       "Name: pais, dtype: int64"
      ]
     },
     "execution_count": 14,
     "metadata": {},
     "output_type": "execute_result"
    }
   ],
   "source": [
    "df_clustering['pais'].value_counts()"
   ]
  },
  {
   "cell_type": "markdown",
   "metadata": {},
   "source": [
    "Vamos a crear una nueva varaible que sea 1 si el país es España y que sea 0 en otro caso, porque la inmensa mayoría son de España. "
   ]
  },
  {
   "cell_type": "code",
   "execution_count": 15,
   "metadata": {},
   "outputs": [],
   "source": [
    "df_clustering.pais = df_clustering.pais.map(lambda x: 1 if x=='ES' else 0)"
   ]
  },
  {
   "cell_type": "code",
   "execution_count": 16,
   "metadata": {},
   "outputs": [
    {
     "data": {
      "text/plain": [
       "V    25490\n",
       "H    21289\n",
       "Name: sexo, dtype: int64"
      ]
     },
     "execution_count": 16,
     "metadata": {},
     "output_type": "execute_result"
    }
   ],
   "source": [
    "df_clustering.sexo.value_counts()"
   ]
  },
  {
   "cell_type": "code",
   "execution_count": 17,
   "metadata": {},
   "outputs": [],
   "source": [
    "dict_sexo = {'H':0,'V':1}\n",
    "df_clustering.sexo = df_clustering.sexo.map(dict_sexo).astype('int')"
   ]
  },
  {
   "cell_type": "code",
   "execution_count": 19,
   "metadata": {
    "collapsed": true
   },
   "outputs": [
    {
     "name": "stdout",
     "output_type": "stream",
     "text": [
      "<class 'pandas.core.frame.DataFrame'>\n",
      "Int64Index: 46779 entries, 5514 to 1537800\n",
      "Data columns (total 13 columns):\n",
      " #   Column                 Non-Null Count  Dtype  \n",
      "---  ------                 --------------  -----  \n",
      " 0   cod_provincia          46779 non-null  float64\n",
      " 1   edad                   46779 non-null  float64\n",
      " 2   mean_engagement        46779 non-null  float64\n",
      " 3   imp_renta              46779 non-null  float64\n",
      " 4   id_segmento            46779 non-null  object \n",
      " 5   des_canal              46779 non-null  object \n",
      " 6   indresi                46779 non-null  object \n",
      " 7   pais                   46779 non-null  int64  \n",
      " 8   xti_actividad_cliente  46779 non-null  float64\n",
      " 9   xti_empleado           46779 non-null  object \n",
      " 10  sexo                   46779 non-null  int32  \n",
      " 11  fecha1                 46779 non-null  float64\n",
      " 12  indext                 46779 non-null  object \n",
      "dtypes: float64(6), int32(1), int64(1), object(5)\n",
      "memory usage: 4.8+ MB\n"
     ]
    }
   ],
   "source": [
    "df_clustering.info()"
   ]
  },
  {
   "cell_type": "code",
   "execution_count": 20,
   "metadata": {},
   "outputs": [],
   "source": [
    "categ = [0,4,5,6,7,8,9,10,12]"
   ]
  },
  {
   "cell_type": "code",
   "execution_count": null,
   "metadata": {},
   "outputs": [],
   "source": [
    "# Choose optimal K using Elbow method\n",
    "cost = []\n",
    "kprototype =[0,0,0,0,0,0,0,0,0,0,0,0]\n",
    "clusters = [0,0,0,0,0,0,0,0,0,0,0,0]\n",
    "\n",
    "for cluster in range(1, 12):\n",
    "    try:\n",
    "        kprototype[cluster] = KPrototypes(n_jobs = -1, n_clusters = cluster, init = 'Huang', random_state = 0)\n",
    "        clusters[cluster] = kprototype[cluster].fit_predict(df_clustering, categorical = categ)\n",
    "        cost.append(kprototype[cluster].cost_)\n",
    "        print('Cluster initiation: {}'.format(cluster))\n",
    "    except:\n",
    "        break"
   ]
  },
  {
   "cell_type": "code",
   "execution_count": 28,
   "metadata": {},
   "outputs": [],
   "source": [
    "df_cost = pd.DataFrame({'Cluster':range(1, len(cost)+1), 'Cost':cost})"
   ]
  },
  {
   "cell_type": "code",
   "execution_count": null,
   "metadata": {},
   "outputs": [],
   "source": [
    "df_cost"
   ]
  },
  {
   "cell_type": "code",
   "execution_count": null,
   "metadata": {},
   "outputs": [],
   "source": [
    "plt.plot(df_cost.Cluster, df_cost.Cost, color='green', linestyle='dashed', marker='o',\n",
    "     markerfacecolor='green', markersize=12)"
   ]
  },
  {
   "cell_type": "code",
   "execution_count": 33,
   "metadata": {},
   "outputs": [],
   "source": [
    "clusterizacion = pd.DataFrame(data={'cod_persona':df_clustering.index,'cluster':clusters[5]})\n",
    "clusterizacion.to_csv('clustering_5.csv', index=False)"
   ]
  },
  {
   "cell_type": "code",
   "execution_count": null,
   "metadata": {
    "scrolled": false
   },
   "outputs": [],
   "source": [
    "clusterizacion"
   ]
  },
  {
   "cell_type": "code",
   "execution_count": null,
   "metadata": {},
   "outputs": [],
   "source": []
  }
 ],
 "metadata": {
  "kernelspec": {
   "display_name": "Python 3",
   "language": "python",
   "name": "python3"
  },
  "language_info": {
   "codemirror_mode": {
    "name": "ipython",
    "version": 3
   },
   "file_extension": ".py",
   "mimetype": "text/x-python",
   "name": "python",
   "nbconvert_exporter": "python",
   "pygments_lexer": "ipython3",
   "version": "3.8.3"
  }
 },
 "nbformat": 4,
 "nbformat_minor": 4
}
